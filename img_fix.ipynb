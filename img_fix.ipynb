{
 "cells": [
  {
   "cell_type": "code",
   "execution_count": 67,
   "metadata": {},
   "outputs": [],
   "source": [
    "from PIL import Image\n",
    "import os\n",
    "import PIL\n",
    "import glob\n",
    "import numpy as np"
   ]
  },
  {
   "cell_type": "code",
   "execution_count": 96,
   "metadata": {},
   "outputs": [],
   "source": [
    "path = r'D:\\data_\\CAT_DATASET\\CAT_00'\n",
    "files = os.listdir(path)\n"
   ]
  },
  {
   "cell_type": "code",
   "execution_count": 95,
   "metadata": {},
   "outputs": [],
   "source": [
    "out_path = r'D:\\data_\\CAT_DATASET\\CAT_00_FIXED_SIZE'"
   ]
  },
  {
   "cell_type": "code",
   "execution_count": 16,
   "metadata": {},
   "outputs": [],
   "source": [
    "images_raw = [f for f in glob.glob(os.path.join(path,\"*.jpg\"))]"
   ]
  },
  {
   "cell_type": "code",
   "execution_count": 53,
   "metadata": {},
   "outputs": [],
   "source": [
    "images_out_path = images_raw.copy()\n",
    "\n",
    "for i in range (len(images_out_path)):\n",
    "    images_out_path[i] = images_out_path[i].removeprefix(path)"
   ]
  },
  {
   "cell_type": "code",
   "execution_count": 54,
   "metadata": {},
   "outputs": [],
   "source": [
    "for i in range (len(images_out_path)):\n",
    "    images_out_path[i] = out_path + images_out_path[i]"
   ]
  },
  {
   "cell_type": "code",
   "execution_count": 94,
   "metadata": {},
   "outputs": [],
   "source": [
    "fixed_h = 60\n",
    "for i in range (len(images_raw)):\n",
    "    img = Image.open(images_raw[i])\n",
    "    new_img = img.resize((fixed_h, fixed_h),Image.ANTIALIAS)\n",
    "    new_img.save(images_out_path[i], optimize=True, quality=40)"
   ]
  }
 ],
 "metadata": {
  "interpreter": {
   "hash": "31ff804e05c542abfdab620000e5333bc9afc6a565bbee95afa27485d8eec998"
  },
  "kernelspec": {
   "display_name": "Python 3.9.7 ('base')",
   "language": "python",
   "name": "python3"
  },
  "language_info": {
   "codemirror_mode": {
    "name": "ipython",
    "version": 3
   },
   "file_extension": ".py",
   "mimetype": "text/x-python",
   "name": "python",
   "nbconvert_exporter": "python",
   "pygments_lexer": "ipython3",
   "version": "3.9.7"
  },
  "orig_nbformat": 4
 },
 "nbformat": 4,
 "nbformat_minor": 2
}
